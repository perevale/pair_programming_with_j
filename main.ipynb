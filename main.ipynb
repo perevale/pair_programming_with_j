{
 "cells": [
  {
   "attachments": {},
   "cell_type": "markdown",
   "metadata": {},
   "source": [
    "# Pair programming 1. session"
   ]
  },
  {
   "attachments": {},
   "cell_type": "markdown",
   "metadata": {},
   "source": [
    "### TASK\n",
    "\n",
    "- detect objects of a given img using _detect_object\n",
    "- extract features of each object and classify them\n",
    "- print results on the image\n",
    "- visualize the results in a pdf report"
   ]
  },
  {
   "cell_type": "code",
   "execution_count": 108,
   "metadata": {},
   "outputs": [],
   "source": [
    "from dataclasses import dataclass, astuple\n",
    "\n",
    "import numpy as np\n",
    "\n",
    "\n",
    "@dataclass\n",
    "class PrecipitateFeatures:\n",
    "    axis_a:float\n",
    "    axis_b:float\n",
    "    center_x:float\n",
    "    center_y: float\n",
    "\n",
    "@dataclass\n",
    "class PrecipitateObject:\n",
    "    local_mask:object\n",
    "    top:int\n",
    "    left:int\n",
    "\n",
    "def _detect_objects(img) -> list[PrecipitateObject]:\n",
    "    \n",
    "    n_objects = np.random.randint(100,high = 200)\n",
    "    t_l = np.random.uniform(0,1024, size = (n_objects,2))\n",
    "    mask_size = np.random.randint(3,high=20, size=(n_objects,))[:,np.newaxis]\n",
    "    return  [ PrecipitateObject(top = y,left=x, local_mask=np.ones((int(size),int(size)))) for x,y,size in np.hstack([t_l,mask_size])]\n",
    "    \n",
    "\n",
    "def _extract_features(obj: PrecipitateObject) -> PrecipitateFeatures:\n",
    "    return PrecipitateFeatures(\n",
    "        axis_a = np.random.uniform(0,10),\n",
    "        axis_b = np.random.uniform(0,10),\n",
    "        center_x = np.random.uniform(0,1024),\n",
    "        center_y = np.random.uniform(0,1024)\n",
    "        )\n",
    "    \n",
    "\n",
    "def _classify_shape(features: PrecipitateFeatures) -> str:\n",
    "    if features.axis_a/features.axis_b > 2:\n",
    "        return \"stoji\"\n",
    "    elif features.axis_a/features.axis_b < 0.5:\n",
    "        return \"lezi\"\n",
    "    else:\n",
    "        return \"kulaty\""
   ]
  },
  {
   "attachments": {},
   "cell_type": "markdown",
   "metadata": {},
   "source": [
    "#### Top-down approach: \n",
    "Pre-define the chunks of code according to tasks.\n",
    "#### Additional assumptions:\n",
    "- The output should be program- and platform-  independent (that is why the result is saved as .csv);\n",
    "- The output should be final (if the output is changed another colleague should be able to take care of generating results without our input, thus the input of the plotting functions should be reiterated df)."
   ]
  },
  {
   "cell_type": "markdown",
   "metadata": {},
   "source": [
    "#### Input\n",
    "1 image with shape 1024*1024."
   ]
  },
  {
   "cell_type": "code",
   "execution_count": 13,
   "metadata": {},
   "outputs": [],
   "source": [
    "img = np.zeros((1024, 1024))"
   ]
  },
  {
   "attachments": {},
   "cell_type": "markdown",
   "metadata": {},
   "source": [
    "#### Task 1.\n",
    "- detect objects of a given img using _detect_object\n"
   ]
  },
  {
   "cell_type": "code",
   "execution_count": 16,
   "metadata": {},
   "outputs": [
    {
     "name": "stdout",
     "output_type": "stream",
     "text": [
      "140\n"
     ]
    }
   ],
   "source": [
    "objects = _detect_objects(img)\n",
    "print(len(objects))"
   ]
  },
  {
   "attachments": {},
   "cell_type": "markdown",
   "metadata": {},
   "source": [
    "#### Task 2. \n",
    "- extract features of each object and classify them"
   ]
  },
  {
   "cell_type": "code",
   "execution_count": 24,
   "metadata": {},
   "outputs": [],
   "source": [
    "features = [_extract_features(obj) for obj in objects]\n",
    "shapes = [_classify_shape(feature) for feature in features]"
   ]
  },
  {
   "attachments": {},
   "cell_type": "markdown",
   "metadata": {},
   "source": [
    "#### Task 3.\n",
    "- print results on the image\n",
    "- visualize the results in a pdf report (3 images: a) one image with ellipsis, b) 2 histograms: ratio of the axes of the ellipsis, barchart of the shapes)\n"
   ]
  },
  {
   "cell_type": "code",
   "execution_count": 131,
   "metadata": {},
   "outputs": [],
   "source": [
    "def get_color_map():\n",
    "    shape_names = ['stoji', 'lezi', 'kulaty']\n",
    "    color_names = ['r', 'b', 'k']\n",
    "    return dict(zip(shape_names, color_names))\n",
    "    "
   ]
  },
  {
   "cell_type": "code",
   "execution_count": 132,
   "metadata": {},
   "outputs": [],
   "source": [
    "color_map = get_color_map()\n",
    "colors = [color_map[shape] for shape in shapes]"
   ]
  },
  {
   "cell_type": "code",
   "execution_count": 63,
   "metadata": {},
   "outputs": [],
   "source": [
    "import matplotlib.pyplot as plt\n",
    "from matplotlib.patches import Ellipse\n"
   ]
  },
  {
   "cell_type": "code",
   "execution_count": 126,
   "metadata": {},
   "outputs": [],
   "source": [
    "feature_cols = ['axis_a', 'axis_b', 'center_x', 'center_y']"
   ]
  },
  {
   "cell_type": "code",
   "execution_count": 141,
   "metadata": {},
   "outputs": [],
   "source": [
    "def get_ellipse(feature, color):\n",
    "    return Ellipse(xy=(feature.center_x, feature.center_y), width=feature.axis_a, height=feature.axis_b, fill=False, color=color)"
   ]
  },
  {
   "cell_type": "code",
   "execution_count": 144,
   "metadata": {},
   "outputs": [
    {
     "data": {
      "image/png": "[encoded data removed]",
      "text/plain": [
       "<Figure size 432x288 with 1 Axes>"
      ]
     },
     "metadata": {
      "needs_background": "light"
     },
     "output_type": "display_data"
    }
   ],
   "source": [
    "def plot_ellipses(ax, img, df):\n",
    "    color_map = get_color_map()\n",
    "    colors = [color_map[shape] for shape in df['shape'].to_list()]\n",
    "    ellipsis = [get_ellipse(feature, color) for feature, color in zip(df.itertuples(), colors)]\n",
    "    ax.imshow(img)\n",
    "    for e in ellipsis:\n",
    "        ax.add_patch(e)\n",
    "ax = plt.subplot(111, aspect='equal')\n",
    "plot_ellipses(ax, img, df)\n",
    "plt.show()\n"
   ]
  },
  {
   "cell_type": "code",
   "execution_count": 148,
   "metadata": {},
   "outputs": [],
   "source": [
    "def plot_ratios(ax, df):\n",
    "    ratios = df.axis_a/df.axis_b\n",
    "    ax.hist(ratios)"
   ]
  },
  {
   "cell_type": "code",
   "execution_count": 157,
   "metadata": {},
   "outputs": [],
   "source": [
    "from collections import Counter\n",
    "def plot_shapes(ax, df):\n",
    "    counter = Counter(df['shape'].to_list())\n",
    "    ind = counter.keys() # equals to list(set(words))\n",
    "    height = counter.values() # counts the elements' frequency\n",
    "    \n",
    "    ax.bar(ind, height)"
   ]
  },
  {
   "cell_type": "code",
   "execution_count": 158,
   "metadata": {},
   "outputs": [],
   "source": [
    "def plot_result_image(df, img):\n",
    "    fig_w, fig_h = 8.27, 11.69\n",
    "    fig, axs = plt.subplots(ncols=2, nrows=3, figsize=(fig_w, fig_h))\n",
    "\n",
    "    gs = axs[0,0].get_gridspec()\n",
    "    for ax in axs[0:2, 0:2].ravel():\n",
    "        ax.remove()\n",
    "    axbig = fig.add_subplot(gs[0:2, 0:2])\n",
    "    fig.tight_layout()\n",
    "\n",
    "    plot_ellipses(axbig, img, df)\n",
    "    plot_ratios(axs[2,0], df)\n",
    "    plot_shapes(axs[2,1], df)\n",
    "    return fig"
   ]
  },
  {
   "cell_type": "code",
   "execution_count": 159,
   "metadata": {},
   "outputs": [
    {
     "name": "stderr",
     "output_type": "stream",
     "text": [
      "C:\\Users\\jk\\AppData\\Local\\Temp/ipykernel_7900/940426595.py:2: UserWarning: Matplotlib is currently using module://matplotlib_inline.backend_inline, which is a non-GUI backend, so cannot show the figure.\n",
      "  fig.show()\n"
     ]
    },
    {
     "data": {
      "image/png": "[encoded data removed]",
      "text/plain": [
       "<Figure size 595.44x841.68 with 3 Axes>"
      ]
     },
     "metadata": {
      "needs_background": "light"
     },
     "output_type": "display_data"
    }
   ],
   "source": [
    "res = plot_result_image(df, img)\n",
    "fig.show()"
   ]
  },
  {
   "cell_type": "code",
   "execution_count": 97,
   "metadata": {},
   "outputs": [],
   "source": [
    "fig.savefig('precipitate_results.pdf', dpi=300)  "
   ]
  },
  {
   "attachments": {},
   "cell_type": "markdown",
   "metadata": {},
   "source": [
    "#### Task 4.\n",
    "- save features into .csv"
   ]
  },
  {
   "cell_type": "code",
   "execution_count": 102,
   "metadata": {},
   "outputs": [],
   "source": [
    "import pandas as pd\n",
    "df = pd.DataFrame(features)\n",
    "df['shape'] = shapes"
   ]
  },
  {
   "cell_type": "code",
   "execution_count": 114,
   "metadata": {},
   "outputs": [],
   "source": [
    "import os\n",
    "features_filename = \"precipitates_features.csv\"\n",
    "features_dir = 'output'\n",
    "os.makedirs(features_dir, exist_ok=True)\n",
    "df.to_csv(os.path.join(features_dir, features_filename), index=False)"
   ]
  }
 ],
 "metadata": {
  "kernelspec": {
   "display_name": "Python 3",
   "language": "python",
   "name": "python3"
  },
  "language_info": {
   "codemirror_mode": {
    "name": "ipython",
    "version": 3
   },
   "file_extension": ".py",
   "mimetype": "text/x-python",
   "name": "python",
   "nbconvert_exporter": "python",
   "pygments_lexer": "ipython3",
   "version": "3.9.9"
  },
  "orig_nbformat": 4,
  "vscode": {
   "interpreter": {
    "hash": "11938c6bc6919ae2720b4d5011047913343b08a43b18698fd82dedb0d4417594"
   }
  }
 },
 "nbformat": 4,
 "nbformat_minor": 2
}
